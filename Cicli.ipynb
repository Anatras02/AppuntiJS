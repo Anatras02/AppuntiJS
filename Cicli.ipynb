{
 "cells": [
  {
   "cell_type": "markdown",
   "id": "5a6e8d57-bea1-474f-89c1-ea97296ecca7",
   "metadata": {},
   "source": [
    "## Cicli in JavaScript\n",
    "\n",
    "I cicli sono utilizzati in JavaScript per eseguire ripetutamente un blocco di codice finché una condizione specificata è vera. Questo è utile quando abbiamo bisogno di eseguire un'azione per un numero specifico di volte o finché una condizione particolare è soddisfatta."
   ]
  },
  {
   "cell_type": "markdown",
   "id": "13b48ac4-bdf1-4fed-ab12-e819fa082b3e",
   "metadata": {},
   "source": [
    "### Il Ciclo `for`\n",
    "\n",
    "Il ciclo `for` è uno dei cicli più comuni in JavaScript. È spesso utilizzato quando sappiamo in anticipo quante volte vogliamo che un blocco di codice sia eseguito."
   ]
  },
  {
   "cell_type": "code",
   "execution_count": 1,
   "id": "9031ee1f-eebb-4d81-8ef4-c9d214033b9c",
   "metadata": {},
   "outputs": [
    {
     "name": "stdout",
     "output_type": "stream",
     "text": [
      "Questo è il ciclo numero 0\n",
      "Questo è il ciclo numero 1\n",
      "Questo è il ciclo numero 2\n",
      "Questo è il ciclo numero 3\n",
      "Questo è il ciclo numero 4\n"
     ]
    }
   ],
   "source": [
    "for (let i = 0; i < 5; i++) {\n",
    "    console.log('Questo è il ciclo numero', i);\n",
    "}"
   ]
  },
  {
   "cell_type": "code",
   "execution_count": null,
   "id": "ee0cbe16-02b9-4480-99b0-67596ed45223",
   "metadata": {},
   "outputs": [],
   "source": []
  }
 ],
 "metadata": {
  "kernelspec": {
   "display_name": "JavaScript (Node.js)",
   "language": "javascript",
   "name": "javascript"
  },
  "language_info": {
   "file_extension": ".js",
   "mimetype": "application/javascript",
   "name": "javascript",
   "version": "18.10.0"
  }
 },
 "nbformat": 4,
 "nbformat_minor": 5
}
