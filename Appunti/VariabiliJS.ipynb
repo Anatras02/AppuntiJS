{
 "cells": [
  {
   "cell_type": "markdown",
   "id": "fca3f3b9-87cd-4bfb-999f-cfc9e2a78e6e",
   "metadata": {},
   "source": [
    "# Variabili e Costanti in JavaScript"
   ]
  },
  {
   "cell_type": "markdown",
   "id": "8fe2fec0-54e7-4108-aed2-631df466ec60",
   "metadata": {},
   "source": [
    "In questo notebook, esploreremo le variabili in JavaScript. Una variabile è un contenitore per conservare i dati che possono essere utilizzati in tutto il tuo programma."
   ]
  },
  {
   "cell_type": "markdown",
   "id": "5000a887-225b-4425-9c4a-74b1b9f4058c",
   "metadata": {},
   "source": [
    "## Dichiarazione di Variabili\n",
    "\n",
    "In JavaScript, possiamo dichiarare variabili usando `var`, `let`, o `const`."
   ]
  },
  {
   "cell_type": "markdown",
   "id": "9f129fe8-9d7d-4f36-bb81-100ba2b82fd1",
   "metadata": {},
   "source": [
    "### Spiegazione `var`\n",
    "\n",
    "Usando `var`, la variabile può essere ri-assegnata e aggiornata. Tuttavia, `var` è funzione-scoped, il che significa che esiste solo all'interno della funzione in cui è stata dichiarata (o globalmente, se dichiarata al di fuori di una funzione)."
   ]
  },
  {
   "cell_type": "code",
   "execution_count": 1,
   "id": "a5a3484f-1e9f-4b8c-a181-ce4b38ec33ab",
   "metadata": {},
   "outputs": [
    {
     "name": "stdout",
     "output_type": "stream",
     "text": [
      "Mario\n",
      "Mario\n",
      "ciao\n"
     ]
    }
   ],
   "source": [
    "var nome_var = \"Mario\";\n",
    "console.log(nome_var);\n",
    "\n",
    "nome = \"Pietro\"\n",
    "console.log(nome_var)\n",
    "\n",
    "if(true) {\n",
    "    var b = \"ciao\"\n",
    "}\n",
    "\n",
    "console.log(b)"
   ]
  },
  {
   "cell_type": "markdown",
   "id": "d0bbc3fc-4d12-49ff-86fc-05fbd7eeb8ab",
   "metadata": {},
   "source": [
    "### Spiegazione `let`\n",
    "    \n",
    "`let` è simile a `var`, ma è block-scoped, il che significa che esiste solo all'interno del blocco in cui è stata dichiarata. Inoltre, `let` può essere ri-assegnato ma non può essere re-dichiarato nello stesso scope."
   ]
  },
  {
   "cell_type": "code",
   "execution_count": 2,
   "id": "2b81b06b-3716-4a8c-9a1b-5b2d9adb6ef2",
   "metadata": {},
   "outputs": [
    {
     "name": "stdout",
     "output_type": "stream",
     "text": [
      "Mario\n",
      "Pietro\n"
     ]
    },
    {
     "ename": "ReferenceError",
     "evalue": "b_1 is not defined",
     "execution_count": 2,
     "output_type": "error",
     "traceback": [
      "evalmachine.<anonymous>:11",
      "console.log(b_1)",
      "            ^",
      "",
      "ReferenceError: b_1 is not defined",
      "    at evalmachine.<anonymous>:11:13",
      "    at Script.runInThisContext (node:vm:129:12)",
      "    at Object.runInThisContext (node:vm:313:38)",
      "    at run ([eval]:1020:15)",
      "    at onRunRequest ([eval]:864:18)",
      "    at onMessage ([eval]:828:13)",
      "    at process.emit (node:events:513:28)",
      "    at emit (node:internal/child_process:937:14)",
      "    at process.processTicksAndRejections (node:internal/process/task_queues:83:21)"
     ]
    }
   ],
   "source": [
    "let nome_let = \"Mario\"\n",
    "console.log(nome_let);\n",
    "\n",
    "nome_let = \"Pietro\"\n",
    "console.log(nome_let)\n",
    "\n",
    "if(true) {\n",
    "    let b_1 = \"ciao\"\n",
    "}\n",
    "\n",
    "console.log(b_1)"
   ]
  },
  {
   "cell_type": "markdown",
   "id": "f74f62cd-0b7b-48f5-b8bd-d4399f3dab8f",
   "metadata": {},
   "source": [
    "Tutti questi concetti saranno chiari più avanti, per ora le due maniere sono equivalenti"
   ]
  },
  {
   "cell_type": "markdown",
   "id": "2262ac62-0699-42a0-92bd-e4b56b67f9b8",
   "metadata": {},
   "source": [
    "### Spiegazione `const`\n",
    "\n",
    "`const` è anche block-scoped, ma, a differenza di `var` e `let`, non può essere ri-assegnato o re-dichiarato. È utilizzato quando si vuole che il valore della variabile rimanga invariato."
   ]
  },
  {
   "cell_type": "code",
   "execution_count": 3,
   "id": "ea372c02-e923-412b-8126-ac1847482451",
   "metadata": {},
   "outputs": [
    {
     "name": "stdout",
     "output_type": "stream",
     "text": [
      "Mario\n"
     ]
    }
   ],
   "source": [
    "const nome_const = \"Mario\"\n",
    "console.log(nome_const)\n",
    "\n",
    "// nome_const = \"Pietro\" // prova a levare il commento a questa riga e vedere che succede, spoiler: viene inalzata un'eccezione"
   ]
  },
  {
   "cell_type": "markdown",
   "id": "d4f452c7-cdb8-4414-b6e3-f5195af4247d",
   "metadata": {},
   "source": [
    "In generale, è una buona pratica utilizzare `const` per i valori che non cambiano e `let` per quelli che cambiano. L'uso di `var` è in gran parte caduto in disuso a causa delle sue limitazioni e potenziali problemi nel codice."
   ]
  },
  {
   "cell_type": "markdown",
   "id": "adda4005-21a1-4249-a368-a3562fa940cf",
   "metadata": {},
   "source": [
    "### Esempio: Area del cerchio\n",
    "\n",
    "Fare un programma che dato in input il raggio di un cerchio calcoli l'area"
   ]
  },
  {
   "cell_type": "code",
   "execution_count": 4,
   "id": "83382cca-7815-40d1-bd09-f289b400d4c0",
   "metadata": {},
   "outputs": [
    {
     "name": "stdout",
     "output_type": "stream",
     "text": [
      "78.5\n"
     ]
    }
   ],
   "source": [
    "const pigreco = 3.14\n",
    "let raggio = 5\n",
    "\n",
    "console.log(pigreco*raggio*raggio)"
   ]
  },
  {
   "cell_type": "markdown",
   "id": "853b2539-9d79-46dd-a20e-ab0565dff690",
   "metadata": {},
   "source": [
    "## Tipi Primitivi e Dinamicità in JavaScript\n",
    "\n",
    "In JavaScript, i tipi di dati sono dinamici. Ciò significa che una variabile può cambiare tipo durante l'esecuzione del programma. Non è necessario specificare esplicitamente il tipo di dato; JavaScript lo determina automaticamente quando il programma è in esecuzione. Questa è una caratteristica distintiva di JavaScript rispetto ad altri linguaggi di programmazione che sono fortemente tipizzati, come Java o C#.\n",
    "\n",
    "### Tipi Primitivi\n",
    "\n",
    "Esistono sette tipi primitivi in JavaScript:\n",
    "\n",
    "1. **Number:** Rappresenta numeri interi e decimali.\n",
    "2. **String:** Rappresenta una sequenza di caratteri.\n",
    "3. **Boolean:** Rappresenta un valore vero o falso.\n",
    "4. **Undefined:** Indica una variabile dichiarata ma non definita.\n",
    "5. **Null:** Rappresenta l'assenza intenzionale di valore.\n",
    "6. **Symbol:** Rappresenta un valore unico non modificabile.\n",
    "7. **BigInt:** Rappresenta numeri interi di grandi dimensioni.\n",
    "\n",
    "### Dinamicità dei Tipi\n",
    "\n",
    "Grazie alla dinamicità dei tipi in JavaScript, è possibile, ad esempio, assegnare una stringa a una variabile e successivamente assegnare un numero a quella stessa variabile, come mostrato nell'esempio seguente:\n"
   ]
  },
  {
   "cell_type": "code",
   "execution_count": 5,
   "id": "8e550b4d-1124-4b23-9214-74a41a03b54f",
   "metadata": {},
   "outputs": [
    {
     "name": "stdout",
     "output_type": "stream",
     "text": [
      "30\n",
      "Alice\n",
      "true\n",
      "undefined\n",
      "null\n",
      "Symbol(descrizione)\n",
      "1234567890123456789012345678901234567890n\n"
     ]
    }
   ],
   "source": [
    "// Number\n",
    "let eta = 30;\n",
    "console.log(eta); // Output: 30\n",
    "\n",
    "// String\n",
    "let nome = \"Alice\";\n",
    "console.log(nome); // Output: Alice\n",
    "\n",
    "// Boolean\n",
    "let isAdult = true;\n",
    "console.log(isAdult); // Output: true\n",
    "\n",
    "// Undefined\n",
    "let x;\n",
    "console.log(x); // Output: undefined\n",
    "\n",
    "// Null\n",
    "let y = null;\n",
    "console.log(y); // Output: null\n",
    "\n",
    "// Symbol\n",
    "const simbolo = Symbol('descrizione');\n",
    "console.log(simbolo); // Output: Symbol(descrizione)\n",
    "\n",
    "// BigInt\n",
    "const grandeIntero = 1234567890123456789012345678901234567890n;\n",
    "console.log(grandeIntero); // Output: 1234567890123456789012345678901234567890n"
   ]
  },
  {
   "cell_type": "markdown",
   "id": "75227ac6-bb3b-4577-81d3-3352bfce4d35",
   "metadata": {},
   "source": [
    "#### Utilizzo di `typeof`\n",
    "\n",
    "Per determinare il tipo di una variabile in JavaScript, possiamo utilizzare l'operatore `typeof`. Questo operatore restituisce una stringa che indica il tipo del valore assegnato a una determinata variabile."
   ]
  },
  {
   "cell_type": "code",
   "execution_count": 6,
   "id": "4b9a080e-782a-4542-a6a0-ae3941689d90",
   "metadata": {},
   "outputs": [
    {
     "name": "stdout",
     "output_type": "stream",
     "text": [
      "number\n",
      "string\n",
      "boolean\n",
      "undefined\n",
      "object\n",
      "symbol\n",
      "bigint\n"
     ]
    }
   ],
   "source": [
    "console.log(typeof eta); // Output: number\n",
    "console.log(typeof nome); // Output: string\n",
    "console.log(typeof isAdult); // Output: boolean\n",
    "console.log(typeof x); // Output: undefined\n",
    "console.log(typeof y); // Output: object (attenzione: questo è un comportamento anomalo in JS, null è un tipo primitivo)\n",
    "console.log(typeof simbolo); // Output: symbol\n",
    "console.log(typeof grandeIntero); // Output: bigint"
   ]
  },
  {
   "cell_type": "markdown",
   "id": "1bc5d0e8-d9e9-4726-9fbe-b386faff4d41",
   "metadata": {},
   "source": [
    "#### Dinamicità dei tipi\n",
    "\n",
    "Come già detto prima possiamo cambiare il tipo di una variabile durante l'esecuzione dello scrip"
   ]
  },
  {
   "cell_type": "code",
   "execution_count": 7,
   "id": "bf8c222c-cd8c-4b39-bf00-e3872c8852b7",
   "metadata": {},
   "outputs": [
    {
     "name": "stdout",
     "output_type": "stream",
     "text": [
      "string\n",
      "number\n"
     ]
    }
   ],
   "source": [
    "let variabile = 'prova'\n",
    "console.log(typeof variabile) // string\n",
    "\n",
    "variabile = 1\n",
    "console.log(typeof variabile) // number"
   ]
  },
  {
   "cell_type": "markdown",
   "id": "c962bcf2-8b1d-4931-ac7c-e2fe08e4767d",
   "metadata": {},
   "source": [
    "## Operazioni tra Variabili\n",
    "\n",
    "In JavaScript, le variabili possono interagire tra loro attraverso operazioni. Queste operazioni possono variare a seconda dei tipi di dati coinvolti. Di seguito sono illustrati diversi scenari comuni."
   ]
  },
  {
   "cell_type": "markdown",
   "id": "d401e73f-fdc4-430c-ba80-e6bcf3bb5a99",
   "metadata": {},
   "source": [
    "## Operazioni tra Numeri\n",
    "\n",
    "In JavaScript, possiamo eseguire una varietà di operazioni matematiche tra numeri. Queste operazioni sono simili a quelle che potremmo eseguire in matematica tradizionale e includono addizioni, sottrazioni, moltiplicazioni, divisioni, e molto altro.\n",
    "\n",
    "### Addizione\n",
    "La addizione viene effettuata con l'operatore `+`. Quando usato tra due o più numeri, somma quei numeri insieme.\n",
    "\n",
    "### Sottrazione\n",
    "L'operatore `-` viene utilizzato per sottrarre un numero da un altro.\n",
    "\n",
    "### Moltiplicazione\n",
    "L'operatore `*` è usato per moltiplicare due numeri insieme.\n",
    "### Divisione\n",
    "L'operatore `/` è usato per dividere un numero per un altro.\n",
    "### Modulo\n",
    "L'operatore `%` restituisce il resto di una divisione.\n",
    "\n",
    "### Esponenziazione\n",
    "L'operatore `**` è usato per eseguire operazioni di esponenziazione, ovvero elevare un numero alla potenza di un altro.\n"
   ]
  },
  {
   "cell_type": "code",
   "execution_count": 8,
   "id": "345671be-4734-4b9b-88c3-b6a09901a0d2",
   "metadata": {},
   "outputs": [
    {
     "name": "stdout",
     "output_type": "stream",
     "text": [
      "Addizione: 19\n",
      "Sottrazione: 11\n",
      "Moltiplicazione: 60\n",
      "Divisione: 3.75\n",
      "Modulo: 3\n",
      "Esponenziazione: 64\n"
     ]
    }
   ],
   "source": [
    "let num1 = 15;\n",
    "let num2 = 4;\n",
    "\n",
    "// Addizione\n",
    "console.log('Addizione:', num1 + num2);  // Output: 19\n",
    "\n",
    "// Sottrazione\n",
    "console.log('Sottrazione:', num1 - num2);  // Output: 11\n",
    "\n",
    "// Moltiplicazione\n",
    "console.log('Moltiplicazione:', num1 * num2);  // Output: 60\n",
    "\n",
    "// Divisione\n",
    "console.log('Divisione:', num1 / num2);  // Output: 3.75\n",
    "\n",
    "// Modulo\n",
    "console.log('Modulo:', num1 % num2);  // Output: 3\n",
    "\n",
    "// Esponenziazione\n",
    "console.log('Esponenziazione:', num2 ** 3);  // Output: 64"
   ]
  },
  {
   "cell_type": "markdown",
   "id": "50f347ee-cd53-4b4b-a657-e8cc5c942439",
   "metadata": {},
   "source": [
    "## Operazioni tra Stringhe\n",
    "\n",
    "### Concatenazione\n",
    "La concatenazione è il processo di unione di due o più stringhe insieme. In JavaScript, possiamo utilizzare l'operatore `+` per concatenare stringhe.\n",
    "\n",
    "### Interpolazione delle Stringhe\n",
    "Un'altra tecnica comune è l'interpolazione delle stringhe, che utilizza i template string (stringhe delimitate da backticks) e permette di inserire espressioni direttamente all'interno delle stringhe."
   ]
  },
  {
   "cell_type": "code",
   "execution_count": 9,
   "id": "4cc7c8e3-7b8a-4498-a676-d4b6fb42c292",
   "metadata": {},
   "outputs": [
    {
     "name": "stdout",
     "output_type": "stream",
     "text": [
      "Concatenazione con +: Filippo Rossi\n",
      "Interpolazione delle stringhe: Filippo Rossi\n"
     ]
    }
   ],
   "source": [
    "let firstName = \"Filippo\";\n",
    "let lastName = \"Rossi\";\n",
    "\n",
    "// Concatenazione con +\n",
    "let fullName = firstName + \" \" + lastName;\n",
    "console.log('Concatenazione con +:', fullName);  // Output: Mario Rossi\n",
    "\n",
    "// Interpolazione delle stringhe\n",
    "let interpolatedName = `${firstName} ${lastName}`;\n",
    "console.log('Interpolazione delle stringhe:', interpolatedName);  // Output: Mario Rossi"
   ]
  },
  {
   "cell_type": "markdown",
   "id": "2e4018a6-f676-406f-86f6-150f7110abe4",
   "metadata": {},
   "source": [
    "## Operazioni tra Tipi Diversi\n",
    "\n",
    "In JavaScript, quando operiamo con tipi di dati diversi, la conversione dei tipi avviene automaticamente. Ad esempio, quando tentiamo di sommare un numero a una stringa, il numero viene convertito in una stringa prima di eseguire la concatenazione.\n",
    "\n",
    "### Conversione Implicita\n",
    "È il processo in cui JavaScript converte automaticamente un tipo di dato in un altro tipo, basato sul contesto in cui è utilizzato.\n",
    "\n",
    "### Coercizione\n",
    "È il processo di conversione forzata da un tipo di dato a un altro, utilizzando metodi come `Number()` o `String()` per convertire esplicitamente i valori."
   ]
  },
  {
   "cell_type": "code",
   "execution_count": 10,
   "id": "4d99e9fa-5994-44c1-93b7-02db3e43c635",
   "metadata": {},
   "outputs": [
    {
     "name": "stdout",
     "output_type": "stream",
     "text": [
      "Somma con conversione implicita: 510\n",
      "Somma con coercizione: 15\n"
     ]
    }
   ],
   "source": [
    "let str = \"5\";\n",
    "let num = 10;\n",
    "\n",
    "// Conversione implicita: il numero viene convertito in stringa\n",
    "console.log('Somma con conversione implicita:', str + num);  // Output: 510\n",
    "\n",
    "// Coercizione: la stringa viene convertita in numero\n",
    "console.log('Somma con coercizione:', Number(str) + num);  // Output: 15"
   ]
  },
  {
   "cell_type": "markdown",
   "id": "4e06c9d6-a4cf-43d2-8749-ff312f057435",
   "metadata": {},
   "source": [
    "## Operazioni Booleane\n",
    "\n",
    "Le operazioni booleane sono fondamentali in JavaScript e in programmazione in generale, poiché permettono di eseguire confronti e controllare il flusso di esecuzione dei programmi. Ci sono vari operatori booleani, tra cui:\n",
    "\n",
    "1. **AND (&&)**: Restituisce `true` se entrambe le espressioni sono veritiere, altrimenti restituisce `false`.\n",
    "2. **OR (||)**: Restituisce `true` se almeno una delle espressioni è veritiera, altrimenti restituisce `false`.\n",
    "3. **NOT (!)**: Restituisce `true` se l'espressione è falsa, e `false` se l'espressione è veritiera.\n",
    "\n",
    "Esaminiamo ogni operatore più dettagliatamente."
   ]
  },
  {
   "cell_type": "markdown",
   "id": "c78b7907-12bf-49f3-9993-ba5eb62ea9f0",
   "metadata": {},
   "source": [
    "### Operatore AND (&&)\n",
    "\n",
    "L'operatore AND `&&` restituisce `true` solo se entrambi i lati dell'operatore sono veritiere. Se uno o entrambi i lati sono falsi, restituisce `false`.\n",
    "\n",
    "#### Tabella di Verità per AND (&&)\n",
    "\n",
    "| A     | B     | A && B |\n",
    "|-------|-------|--------|\n",
    "| true  | true  | true   |\n",
    "| true  | false | false  |\n",
    "| false | true  | false  |\n",
    "| false | false | false  |\n"
   ]
  },
  {
   "cell_type": "markdown",
   "id": "0481635d-2852-48c1-adfa-91567fc59fa3",
   "metadata": {},
   "source": [
    "### Operatore OR (||)\n",
    "\n",
    "L'operatore OR `||` restituisce `true` se almeno uno dei lati dell'operatore è vero. Restituisce `false` solo se entrambi i lati sono falsi.\n",
    "\n",
    "#### Tabella di Verità per OR (||)\n",
    "\n",
    "| A     | B     | A \\|\\| B |\n",
    "|-------|-------|----------|\n",
    "| true  | true  | true     |\n",
    "| true  | false | true     |\n",
    "| false | true  | true     |\n",
    "| false | false | false    |"
   ]
  },
  {
   "cell_type": "markdown",
   "id": "d38827e1-94d9-4ee8-bea1-0a8139dc85d9",
   "metadata": {},
   "source": [
    "### Operatore NOT (!)\n",
    "\n",
    "L'operatore NOT `!` inverte il valore booleano dell'espressione. Se l'espressione è veritiera, restituisce `false`; se è falsa, restituisce `true`.\n",
    "\n",
    "#### Tabella di Verità per NOT (!)\n",
    "\n",
    "| A     | !A    |\n",
    "|-------|-------|\n",
    "| true  | false |\n",
    "| false | true  |"
   ]
  },
  {
   "cell_type": "code",
   "execution_count": 11,
   "id": "c7561556-2c62-4166-8bfe-38c89498a672",
   "metadata": {},
   "outputs": [
    {
     "name": "stdout",
     "output_type": "stream",
     "text": [
      "true\n",
      "false\n",
      "false\n",
      "false\n",
      "true\n",
      "true\n",
      "true\n",
      "false\n",
      "false\n",
      "true\n"
     ]
    }
   ],
   "source": [
    "// Esempi di AND (&&)\n",
    "console.log(true && true);   // Output: true\n",
    "console.log(true && false);  // Output: false\n",
    "console.log(false && true);  // Output: false\n",
    "console.log(false && false); // Output: false\n",
    "\n",
    "// Esempi di OR (||)\n",
    "console.log(true || true);   // Output: true\n",
    "console.log(true || false);  // Output: true\n",
    "console.log(false || true);  // Output: true\n",
    "console.log(false || false); // Output: false\n",
    "\n",
    "// Esempi di NOT (!)\n",
    "console.log(!true);  // Output: false\n",
    "console.log(!false); // Output: true"
   ]
  },
  {
   "cell_type": "markdown",
   "id": "0825774e-537d-4cb9-aa08-b52c12785e21",
   "metadata": {},
   "source": [
    "### Considerazioni Aggiuntive\n",
    "\n",
    "È importante notare che in JavaScript, alcuni valori sono considerati \"falsy\" quando convertiti in booleano, tra cui:\n",
    "\n",
    "- 0\n",
    "- ''\n",
    "- NaN\n",
    "- null\n",
    "- undefined\n",
    "\n",
    "Tutti gli altri valori sono considerati \"truthy\".\n",
    "\n",
    "Inoltre, JavaScript supporta operatori di confronto come `==`, `===`, `!=`, e `!==`, che possono essere utilizzati per confrontare valori e restituire un risultato booleano."
   ]
  },
  {
   "cell_type": "markdown",
   "id": "704a610f-cf3e-4680-bcbc-0a9767c92b09",
   "metadata": {},
   "source": [
    "## Uguaglianza e Disuguaglianza in JavaScript\n",
    "\n",
    "In JavaScript, ci sono due tipi principali di operatori di uguaglianza: l'uguaglianza stretta (===) e l'uguaglianza larga (==). Similmente, ci sono due tipi di operatori di disuguaglianza: la disuguaglianza stretta (!==) e la disuguaglianza larga (!=).\n",
    "\n",
    "1. **Uguaglianza Stretta (===)**: Confronta sia il valore che il tipo di dato. Restituisce true se valore e tipo sono uguali, altrimenti false.\n",
    "\n",
    "2. **Uguaglianza Larga (==)**: Confronta solo il valore, non il tipo di dato. Può causare conversioni di tipo automatiche.\n",
    "\n",
    "3. **Disuguaglianza Stretta (!==)**: Restituisce true se il valore o il tipo di dato non sono uguali, altrimenti false.\n",
    "\n",
    "4. **Disuguaglianza Larga (!=)**: Restituisce true se i valori non sono uguali (dopo la conversione del tipo di dato, se necessaria), altrimenti false.\n",
    "\n",
    "Esaminiamo questi operatori più nel dettaglio con alcuni esempi."
   ]
  },
  {
   "cell_type": "code",
   "execution_count": 12,
   "id": "121e896f-8a88-4c1c-8e68-20b5ff990a1f",
   "metadata": {},
   "outputs": [
    {
     "name": "stdout",
     "output_type": "stream",
     "text": [
      "true\n",
      "false\n",
      "true\n",
      "true\n"
     ]
    }
   ],
   "source": [
    "// Uguaglianza Stretta (===)\n",
    "console.log(5 === 5);     // Output: true, perché stesso valore e stesso tipo\n",
    "console.log(5 === '5');   // Output: false, perché diverso tipo\n",
    "\n",
    "// Uguaglianza Larga (==)\n",
    "console.log(5 == 5);      // Output: true, perché stesso valore\n",
    "console.log(5 == '5');    // Output: true, perché JavaScript converte il tipo"
   ]
  },
  {
   "cell_type": "markdown",
   "id": "181b80cf-3e31-4b16-be85-b38681969aa6",
   "metadata": {},
   "source": [
    "Nell'uguaglianza stretta, '5' e 5 non sono considerati uguali perché hanno tipi di dati diversi (stringa e numero). Nell'uguaglianza larga, invece, JavaScript esegue una conversione del tipo di dato e quindi considera '5' e 5 come uguali.\n",
    "\n",
    "### Considerazioni\n",
    "\n",
    "È generalmente consigliato utilizzare l'uguaglianza e la disuguaglianza stretta (=== e !==) per evitare confusione e errori causati dalle conversioni di tipo implicita di JavaScript. Questo può aiutare a rendere il codice più prevedibile e facile da leggere e debuggare."
   ]
  }
 ],
 "metadata": {
  "kernelspec": {
   "display_name": "JavaScript (Node.js)",
   "language": "javascript",
   "name": "javascript"
  },
  "language_info": {
   "file_extension": ".js",
   "mimetype": "application/javascript",
   "name": "javascript",
   "version": "18.10.0"
  }
 },
 "nbformat": 4,
 "nbformat_minor": 5
}
