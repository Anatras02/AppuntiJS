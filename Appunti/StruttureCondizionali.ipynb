{
 "cells": [
  {
   "cell_type": "markdown",
   "id": "dbe2ce07-7c83-426d-bb30-44b1c863fd81",
   "metadata": {},
   "source": [
    "## Valori Booleani\n",
    "\n",
    "In JavaScript, un valore booleano rappresenta una verità elementare e può avere solo due valori: `true` (vero) o `false` (falso). I valori booleani sono spesso il risultato di confronti e condizioni.§"
   ]
  },
  {
   "cell_type": "markdown",
   "id": "09de5584-2b7f-4e7d-9239-adc51aa76ee3",
   "metadata": {},
   "source": [
    "I valori booleani sono comunemente usati in condizioni e cicli. Ad esempio, possiamo utilizzare valori booleani in istruzioni `if`, `while`, e altri costrutti di controllo del flusso per determinare se un blocco di codice specifico dovrebbe essere eseguito o no."
   ]
  },
  {
   "cell_type": "code",
   "execution_count": 1,
   "id": "f876367e-52b5-4f86-be3f-08e386c08f6d",
   "metadata": {},
   "outputs": [
    {
     "name": "stdout",
     "output_type": "stream",
     "text": [
      "Adulto: true\n",
      "Minorenne: false\n"
     ]
    }
   ],
   "source": [
    "let isAdult = true;\n",
    "let isMinor = false;\n",
    "\n",
    "console.log('Adulto:', isAdult);  // Stampa: Adulto: true\n",
    "console.log('Minorenne:', isMinor);  // Stampa: Minorenne: false"
   ]
  },
  {
   "cell_type": "markdown",
   "id": "67af622a-c7f6-4bb7-a445-7b3a6bf61dd5",
   "metadata": {},
   "source": [
    "## Strutture Condizionali in JavaScript\n",
    "\n",
    "JavaScript dispone di diverse strutture condizionali come `if`, `else`, `else if` e `switch` per controllare il flusso del programma basato su condizioni specifiche."
   ]
  },
  {
   "cell_type": "markdown",
   "id": "f9734533-4ef9-4545-b0fa-c759bc50ccdf",
   "metadata": {},
   "source": [
    "### Spiegazione `if`\n",
    "\n",
    "La struttura `if` viene utilizzata per eseguire un blocco di codice se la condizione specificata è vera.\n",
    "\n",
    "Se la condizione non è vera viene chiamato (se presente) il gruppo il blocco di codice all'interno dell'`else`, se non presente il programma continua al di sotto"
   ]
  },
  {
   "cell_type": "code",
   "execution_count": 2,
   "id": "5d6f9eca-0eba-492d-9879-c5a5744da053",
   "metadata": {},
   "outputs": [
    {
     "name": "stdout",
     "output_type": "stream",
     "text": [
      "Il numero è maggiore di 5\n",
      "Il programma continua\n"
     ]
    }
   ],
   "source": [
    "let numero = 20;\n",
    "if (numero > 5) {\n",
    "    console.log('Il numero è maggiore di 5');\n",
    "}\n",
    "\n",
    "console.log(\"Il programma continua\")"
   ]
  },
  {
   "cell_type": "code",
   "execution_count": 3,
   "id": "f5076a84-170b-49aa-9ac4-ae5d8082bd48",
   "metadata": {},
   "outputs": [
    {
     "name": "stdout",
     "output_type": "stream",
     "text": [
      "Il numero è maggiore di 10\n",
      "Il programma continua\n"
     ]
    }
   ],
   "source": [
    "if (numero > 20) {\n",
    "    console.log('Il numero è maggiore di 20');\n",
    "} else if (numero > 10) {\n",
    "    console.log('Il numero è maggiore di 10');\n",
    "}\n",
    "else {\n",
    "    console.log(\"Il numero è minore o uguale a 10\");\n",
    "}\n",
    "\n",
    "console.log(\"Il programma continua\")"
   ]
  },
  {
   "cell_type": "markdown",
   "id": "0de0a741-2c41-4c63-bb21-db6e9c32f7ee",
   "metadata": {},
   "source": [
    "## Spiegazione `switch`\n",
    "\n",
    "Lo `switch` è una dichiarazione di controllo del flusso che viene utilizzata per eseguire diversi blocchi di codice basati su diverse condizioni. È particolarmente utile quando si hanno molte condizioni da controllare, rendendo il codice più leggibile e gestibile rispetto a un lungo elenco di istruzioni `if-else if-else`.\n",
    "\n",
    "La struttura dello `switch` è la seguente:\n",
    "\n",
    "1. La dichiarazione `switch` inizia con la parola chiave `switch`, seguita da una espressione tra parentesi (spesso una variabile), che viene valutata una sola volta.\n",
    "\n",
    "2. I vari blocchi di codice sono introdotti dalle parole chiave `case`, seguite da un valore specifico e da un colon. Il valore specificato in ogni `case` viene confrontato con l'espressione valutata all'interno delle parentesi dello `switch`.\n",
    "\n",
    "3. Se c'è una corrispondenza, il blocco di codice associato a quel `case` viene eseguito.\n",
    "\n",
    "4. La parola chiave `break` è utilizzata per uscire dallo `switch` una volta che un caso corrispondente è stato trovato ed il suo codice eseguito. Se `break` è omesso, lo `switch` continuerà a valutare i casi successivi fino a quando non trova un `break`, o fino alla fine dello `switch`.\n",
    "\n",
    "5. Il `case default` è opzionale e fornisce un blocco di codice che verrà eseguito se nessuno dei casi specificati corrisponde all'espressione valutata. Non è necessario un `break` dopo `default`, poiché è sempre l'ultimo caso.\n"
   ]
  },
  {
   "cell_type": "code",
   "execution_count": 4,
   "id": "98ed30e3-0d0a-4b3c-a4fe-c19271cb95f2",
   "metadata": {},
   "outputs": [
    {
     "name": "stdout",
     "output_type": "stream",
     "text": [
      "Hai scelto una mela\n"
     ]
    }
   ],
   "source": [
    "let frutto = 'mela';\n",
    "switch (frutto) {\n",
    "    case 'banana':\n",
    "        console.log('Hai scelto una banana');\n",
    "        break;\n",
    "    case 'mela':\n",
    "        console.log('Hai scelto una mela');\n",
    "        break;\n",
    "    default:\n",
    "        console.log('Non abbiamo questo frutto');\n",
    "}"
   ]
  },
  {
   "cell_type": "markdown",
   "id": "e9805e63-71ae-4b3c-af75-441923d4690a",
   "metadata": {},
   "source": [
    "#### Cosa succede se non mettiamo il `break`?"
   ]
  },
  {
   "cell_type": "code",
   "execution_count": 5,
   "id": "144fe8c0-8f93-412b-9559-ff13c7e5369c",
   "metadata": {},
   "outputs": [
    {
     "name": "stdout",
     "output_type": "stream",
     "text": [
      "Hai scelto una banana\n",
      "Hai scelto una mela\n",
      "Non abbiamo questo frutto\n"
     ]
    }
   ],
   "source": [
    "frutto = 'banana'\n",
    "switch (frutto) {\n",
    "    case 'banana':\n",
    "        console.log('Hai scelto una banana');\n",
    "    case 'mela':\n",
    "        console.log('Hai scelto una mela');\n",
    "    default:\n",
    "        console.log('Non abbiamo questo frutto');\n",
    "}"
   ]
  },
  {
   "cell_type": "code",
   "execution_count": null,
   "id": "75b2f6e9-51d9-47d0-9f96-3d02f3d2b8de",
   "metadata": {},
   "outputs": [],
   "source": []
  }
 ],
 "metadata": {
  "kernelspec": {
   "display_name": "JavaScript (Node.js)",
   "language": "javascript",
   "name": "javascript"
  },
  "language_info": {
   "file_extension": ".js",
   "mimetype": "application/javascript",
   "name": "javascript",
   "version": "18.10.0"
  }
 },
 "nbformat": 4,
 "nbformat_minor": 5
}
